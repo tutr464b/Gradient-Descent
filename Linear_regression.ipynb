{
  "nbformat": 4,
  "nbformat_minor": 0,
  "metadata": {
    "colab": {
      "name": "Linear_regression.ipynb",
      "provenance": [],
      "authorship_tag": "ABX9TyONeGqU/0Sxzpqb4bKrbwO/",
      "include_colab_link": true
    },
    "kernelspec": {
      "name": "python3",
      "display_name": "Python 3"
    },
    "language_info": {
      "name": "python"
    }
  },
  "cells": [
    {
      "cell_type": "markdown",
      "metadata": {
        "id": "view-in-github",
        "colab_type": "text"
      },
      "source": [
        "<a href=\"https://colab.research.google.com/github/tutr464b/Linear-Regression/blob/main/Linear_regression.ipynb\" target=\"_parent\"><img src=\"https://colab.research.google.com/assets/colab-badge.svg\" alt=\"Open In Colab\"/></a>"
      ]
    },
    {
      "cell_type": "code",
      "execution_count": 1,
      "metadata": {
        "id": "LqbfZcye0X6o"
      },
      "outputs": [],
      "source": [
        "import numpy as np\n",
        "import matplotlib.pyplot as plt\n"
      ]
    },
    {
      "cell_type": "markdown",
      "source": [
        "Initialise value \n",
        "- s  in km/h (spped)\n",
        "- c in l/100km (fuel consumption)\n",
        "\n",
        "|$s$|$c$|\n",
        "|--|--|\n",
        "|0|\t0|\n",
        "|30\t|3.5|\n",
        "|50|5|\n",
        "|80|6.8|\n",
        "|100|7.4|\n",
        "|130|8|\n",
        "|180|\t12|\n",
        "\n",
        "to determine : $c(s) = w_1 s + w_0$"
      ],
      "metadata": {
        "id": "JpIixXu43qFO"
      }
    },
    {
      "cell_type": "markdown",
      "source": [
        "\n",
        "\n",
        "update function (for 2 feature)\n",
        "\n",
        "\n",
        "\n",
        "\n",
        "\n"
      ],
      "metadata": {
        "id": "LSz0smEp2dPP"
      }
    },
    {
      "cell_type": "code",
      "source": [
        "def update(w1, w0, alpha, s, c):\n",
        "  n = len(s)\n",
        "  dw1 = 1/n*np.sum((w0 + w1*s - c)*s)\n",
        "  dw0 = 1/n*np.sum(w0 + w1*s - c)\n",
        "\n",
        "  w1 = w1 - alpha*dw1\n",
        "  w0 = w0 - alpha*dw0\n",
        "  return w1, w0"
      ],
      "metadata": {
        "id": "3_zhdBNv05he"
      },
      "execution_count": 2,
      "outputs": []
    },
    {
      "cell_type": "code",
      "source": [
        "s = np.array([0, 30, 50, 80, 100, 130, 180])\n",
        "c = np.array([0, 3.5, 5.0, 6.8, 7.4, 8.0, 12.0])"
      ],
      "metadata": {
        "id": "epgsiQCE2eFD"
      },
      "execution_count": 3,
      "outputs": []
    },
    {
      "cell_type": "code",
      "source": [
        "iterations = 100\n",
        "#start values\n",
        "w1 = 2\n",
        "w0 = 2\n",
        "#learning rate\n",
        "alpha = 0.0001 "
      ],
      "metadata": {
        "id": "QdQan4ko3wta"
      },
      "execution_count": 4,
      "outputs": []
    },
    {
      "cell_type": "code",
      "source": [
        "for i in range(iterations):\n",
        "  w1, w0 = update(w1, w0, alpha, s, c)\n",
        "print(f\"Numerische Lösung: c = {w1:.2f}s + {w0:.2f}\")\n"
      ],
      "metadata": {
        "colab": {
          "base_uri": "https://localhost:8080/"
        },
        "id": "0l9CkBDo4AdM",
        "outputId": "7d315efa-4307-4444-e173-32ea114a35c8"
      },
      "execution_count": 5,
      "outputs": [
        {
          "output_type": "stream",
          "name": "stdout",
          "text": [
            "Numerische Lösung: c = 0.05s + 1.98\n"
          ]
        }
      ]
    },
    {
      "cell_type": "markdown",
      "source": [
        "Find optimal values using normal equation"
      ],
      "metadata": {
        "id": "C5AeLzOl5hSZ"
      }
    },
    {
      "cell_type": "code",
      "source": [
        "bestw1 = (np.mean(c*s) - np.mean(c)*np.mean(s))/(np.mean(s**2) - np.mean(s)**2)\n",
        "bestw0 = np.mean(c) - bestw1*np.mean(s)\n",
        "\n",
        "print(f\"Optimale Lösung: c = {bestw1:.2f}s + {bestw0:.2f} (grün)\")\n"
      ],
      "metadata": {
        "colab": {
          "base_uri": "https://localhost:8080/"
        },
        "id": "5ynGpR1J5ewH",
        "outputId": "460f3a3c-ebec-479a-da35-b1f6ceddbc28"
      },
      "execution_count": 6,
      "outputs": [
        {
          "output_type": "stream",
          "name": "stdout",
          "text": [
            "Optimale Lösung: c = 0.06s + 1.21 (grün)\n"
          ]
        }
      ]
    },
    {
      "cell_type": "code",
      "source": [
        "plt.figure()\n",
        "plt.xlabel(r\"$s/\\frac{km}{h}$\")\n",
        "plt.ylabel(r\"$c/\\frac{l}{100km}$\")\n",
        "plt.plot(s, c, '.')\n",
        "plt.plot(s, s*w1 + w0, color=\"red\")\n",
        "plt.plot(s, s*bestw1 + bestw0, color=\"green\")\n",
        "plt.show()"
      ],
      "metadata": {
        "colab": {
          "base_uri": "https://localhost:8080/",
          "height": 288
        },
        "id": "wnBEM92w7Qq1",
        "outputId": "38740e35-c444-45a4-9373-cb80ff0b3c5d"
      },
      "execution_count": 7,
      "outputs": [
        {
          "output_type": "display_data",
          "data": {
            "image/png": "[encoded data removed]",
            "text/plain": [
              "<Figure size 432x288 with 1 Axes>"
            ]
          },
          "metadata": {
            "needs_background": "light"
          }
        }
      ]
    },
    {
      "cell_type": "code",
      "source": [
        ""
      ],
      "metadata": {
        "id": "j7W158Vx7p2F"
      },
      "execution_count": null,
      "outputs": []
    }
  ]
}